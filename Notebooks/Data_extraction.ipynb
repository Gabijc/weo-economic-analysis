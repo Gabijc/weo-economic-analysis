{
 "cells": [
  {
   "cell_type": "code",
   "execution_count": null,
   "id": "e9ac28ea",
   "metadata": {},
   "outputs": [],
   "source": [
    "# import of necessary libraries\n",
    "import polars as pl\n",
    "import requests\n",
    "import json\n",
    "import xmltodict\n",
    "import pandas as pd\n"
   ]
  },
  {
   "cell_type": "code",
   "execution_count": 2,
   "id": "9478f2cb",
   "metadata": {},
   "outputs": [
    {
     "name": "stdout",
     "output_type": "stream",
     "text": [
      "<?xml version='1.0' encoding='UTF-8'?><message:StructureSpecificData xmlns:ss=\"http://www.sdmx.org/resources/sdmxml/schemas/v2_1/data/structurespecific\" xmlns:footer=\"http://www.sdmx.org/resources/sdmxml/schemas/v2_1/message/footer\" xmlns:ns1=\"urn:sdmx:org.sdmx.infomodel.datastructure.Dataflow=IMF.RES:WEO(6.0.0):ObsLevelDim:TIME_PERIOD\" xmlns:message=\"http://www.sdmx.org/resources/sdmxml/schemas/v2_1/message\" xmlns:common=\"http://www.sdmx.org/resources/sdmxml/schemas/v2_1/common\" xmlns:xsi=\"http://www.w3.org/2001/XMLSchema-instance\" xmlns:xml=\"http://www.w3.org/XML/1998/namespace\"><message:Header><message:ID>DS1756826401421</message:ID><message:Test>false</message:Test><message:Prepared>2025-09-02T15:20:01Z</message:Prepared><message:Sender id=\"iData\"/><message:Structure structureID=\"IMF.RES_WEO_6_0_0\" namespace=\"urn:sdmx:org.sdmx.infomodel.datastructure.Dataflow=IMF.RES:WEO(6.0.0):ObsLevelDim:TIME_PERIOD\" dimensionAtObservation=\"TIME_PERIOD\"><common:StructureUsage><Ref agencyID=\"IMF.RES\" id=\"WEO\" version=\"6.0.0\"/></common:StructureUsage></message:Structure><message:DataSetAction>Replace</message:DataSetAction></message:Header><message:DataSet ss:dataScope=\"DataStructure\" xsi:type=\"ns1:DataSetType\" ss:structureRef=\"IMF.RES_WEO_6_0_0\" action=\"Replace\" LANGUAGE=\"EN\" PUBLISHER=\"IMF\" UPDATE_DATE=\"2025-04-22T13:00:00Z\" PUBLICATION_DATE=\"2025-04-22T13:00:00Z\" CONTACT_POINT=\"datahelp@imf.org\" ACCESS_SHARING_LEVEL=\"PUBLIC_OPEN\" SECURITY_CLASSIFICATION=\"PUB\" DEPARTMENT=\"RES\" TOPIC_DATASET=\"C53,F32,F21_IIP,F34,H00,E10,E10_GDP,F10,WEO\" SHORT_SOURCE_CITATION=\"IMF staff calculations.\" SUGGESTED_CITATION=\"International Monetary Fund. World Economic Outlook (WEO), https://data.imf.org/en/datasets/IMF.RES:WEO. Accessed on [current date].\" KEYWORDS_DATASET=\"Demographics, Real sector, Price indexes, Gross domestic product, National accounts, Labor markets, Unemployment, International trade, Export prices, Import prices, International reserves, Monetary aggregates, Consumer prices, Exchange rates, External position, Financial account, Balance of payments, Capital account, Current account, External debt, International investment position, Public sector and general government, Debt service, Fiscal account\" FULL_DESCRIPTION=\"The World Economic Outlook (WEO) database contains selected macroeconomic data series from the statistical appendix of the World Economic Outlook report, which presents the IMF staff's analysis and projections of economic developments at the global level, in major country groups and in many individual countries. The WEO is released in April and September/October each year. Use this database to find data on national accounts, gross domestic product (GDP), inflation, unemployment rates, balance of payments, fiscal indicators, trade for countries and country groups (aggregates), and commodity prices whose data are reported by the IMF. Data are available from 1980 to the present, and projections are given for the next two years. Additionally, medium-term projections are available for selected indicators. For some countries, data are incomplete or unavailable for certain years.\" LICENSE=\"© International Monetary Fund Copyright. All Rights Reserved. https://www.imf.org/external/terms.htm\"><Group xsi:type=\"ns1:INDICATOR\" INDICATOR=\"PSMEA\" PRICES=\"UP\" TOPIC=\"Q02\" COMMODITY=\"PSMEA\" UNIT=\"USDPMT\" SERIES_NAME=\"Soybean meal, Unit prices, US dollars per metric tonne\"/><Group xsi:type=\"ns1:INDICATOR\" INDICATOR=\"BM\" UNIT=\"USD\" SERIES_NAME=\"Imports of goods and services, US dollar\" INT_ACC_ITEM=\"MGS\" TOPIC=\"F10_I\"/><Group xsi:type=\"ns1:INDICATOR\" INDICATOR=\"PNGASW\" SERIES_NAME=\"Natural gas, Commodity price index\" TOPIC=\"Q02\" COMMODITY=\"PNGAS\" UNIT=\"IX\" INDEX_TYPE=\"CPIX\"/><Group xsi:type=\"ns1:INDICATOR\" INDICATOR=\"PSAWMAL\" COMMODITY=\"PSAWMAL\" SERIES_NAME=\"Hard sawnwood, Dark Red Meranti, Unit prices, US dollars per cubic meter\" PRICES=\"UP\" UNIT=\"USD_PCM\" TOPIC=\"Q02\"/><Group xsi:type=\"ns1:INDICATOR\" INDICATOR=\"PSOIL\" PRICES=\"UP\" SERIES_NAME=\"Soybeans oil, Unit prices, US dollars per metric tonne\" COMMODITY=\"PSOIL\" TOPIC=\"Q02\" UNIT=\"USDPMT\"/><Group xsi:type=\"ns1:INDICATOR\" INDICATOR=\"PMETAW\" TOPIC=\"Q02\" INDEX_TYPE=\"CPIX\" COMMODITY=\"PMETA\" UNIT=\"IX\" SERIES_NAME=\"Metal, Commodity price index\"/><Group xsi:type=\"ns1:INDICATOR\" INDICATOR=\"GGSB_NPGDP\" GFS_STO=\"SB\" TOPIC=\"H00\" SECTOR=\"S13\" UNIT=\"PT\" SERIES_NAME=\"Structural balance, General government, Percent\"/><Group xsi:type=\"ns1:INDICATOR\" INDICATOR=\"PRAWMW\" SERIES_NAME=\"Agricultural raw materials, Commodity price index\" TOPIC=\"Q02\" COMMODITY=\"PRAWM\" UNIT=\"IX\" INDEX_TYPE=\"CPIX\"/><Group xsi:type=\"ns1:INDICATOR\" INDICATOR=\"PPORK\" PRICES=\"UP\" TOPIC=\"Q02\" COMMODITY=\"PPORK\" UNIT=\"USCPP\" SERIES_NAME=\"Swine, Unit prices, US cents per pound\"/><Group xsi:type=\"ns1:INDICATOR\" INDICATOR=\"NGDP_RPCH\" NA_STO=\"B1GQ\" UNIT=\"PT\" SERIES_NAME=\"Gross domestic product (GDP), Constant prices, Percent change\" KEY_INDICATOR=\"true\" PRICES=\"Q\" TOPIC=\"E10_GDP\" KEYWORDS=\"Real GDP\"/><Group xsi:type=\"ns1:INDICATOR\" INDICATOR=\"D\" INT_ACC_ITEM=\"FGED\" TOPIC=\"F34\" UNIT=\"USD\" SERIES_NAME=\"External debt, US dollar\" KEY_INDICATOR=\"true\"/><Group xsi:type=\"ns1:INDICATOR\" INDICATOR=\"BF\" SERIES_NAME=\"Financial account balance (assets less liabilities), US dollar\" UNIT=\"USD\" INT_ACC_ITEM=\"FAB\" TOPIC=\"F32,F32_FA\" KEY_INDICATOR=\"true\"/><Group xsi:type=\"ns1:INDICATOR\" INDICATOR=\"PIORECR\" TOPIC=\"Q02\" COMMODITY=\"PIORECR\" UNIT=\"USDPMT\" PRICES=\"UP\" SERIES_NAME=\"Iron ore, Unit prices, US dollars per metric tonne\"/><Group xsi:type=\"ns1:INDICATOR\" INDICATOR=\"POLVOIL\" SERIES_NAME=\"Olive oil, Unit prices, US dollars per metric tonne\" PRICES=\"UP\" TOPIC=\"Q02\" COMMODITY=\"POLVOIL\" UNIT=\"USDPMT\"/><Group xsi:type=\"ns1:INDICATOR\" INDICATOR=\"PBEVEW\" UNIT=\"IX\" COMMODITY=\"PBEVE\" TOPIC=\"Q02\" SERIES_NAME=\"Beverages, Commodity price index\" INDEX_TYPE=\"CPIX\"/><Group xsi:type=\"ns1:INDICATOR\" INDICATOR=\"PURAN\" COMMODITY=\"PURAN\" SERIES_NAME=\"Uranium, Unit prices, US dollars per pound\" PRICES=\"UP\" TOPIC=\"Q02\" UNIT=\"USDPP\"/><Group xsi:type=\"ns1:INDICATOR\" INDICATOR=\"BX\" TOPIC=\"F10_E\" INT_ACC_ITEM=\"XGS\" UNIT=\"USD\" SERIES_NAME=\"Exports of goods and services, US dollar\"/><Group xsi:type=\"ns1:INDICATOR\" INDICATOR=\"DSP_NGDPD\" TOPIC=\"F34\" SERIES_NAME=\"External debt: total debt service, amortization, Percent of GDP\" UNIT=\"PT\" INT_ACC_ITEM=\"FGEDDSA\"/><Group xsi:type=\"ns1:INDICATOR\" INDICATOR=\"BFRA\" TOPIC=\"F32,F32_FA\" FUNCTIONAL_CAT=\"RC\" ACCOUNTING_ENTRY=\"N\" UNIT=\"USD\" SERIES_NAME=\"Change in reserve assets, Net (assets minus liabilities), US dollar\" KEY_INDICATOR=\"true\"/><Group xsi:type=\"ns1:INDICATOR\" INDICATOR=\"PGNUTS\" TOPIC=\"Q02\" SERIES_NAME=\"Groundnuts, Unit prices, US dollars per metric tonne\" PRICES=\"UP\" UNIT=\"USDPMT\" COMMODITY=\"PGNUTS\"/><Group xsi:type=\"ns1:INDICATOR\" INDICATOR=\"PCOFFOTM\" UNIT=\"USCPP\" TOPIC=\"Q02\" SERIES_NAME=\"Coffee, other mild Arabica, Unit prices, US cents per pound\" PRICES=\"UP\" COMMODITY=\"PCOFFOTM\"/><Group xsi:type=\"ns1:INDICATOR\" INDICATOR=\"POILAPSP\" UNIT=\"USD_BBL\" SERIES_NAME=\"APSP crude oil, Unit prices, US dollars per barrel\" PRICES=\"UP\" TOPIC=\"Q02\" COMMODITY=\"POILAPSP\"/><Group xsi:type=\"ns1:INDICATOR\" INDICATOR=\"TM_RPCH\" VALUATION=\"CIF\" KEY_INDICATOR=\"true\" SERIES_NAME=\"Imports of goods and services, Volume, Cost insurance freight (CIF), Percent change\" PRICES=\"VL\" UNIT=\"PT\" TOPIC=\"F10_I\" TRADE_FLOW=\"MGS\"/><Group xsi:type=\"ns1:INDICATOR\" INDICATOR=\"PRICENPQ\" PRICES=\"UP\" TOPIC=\"Q02\" COMMODITY=\"PRICENPQ\" UNIT=\"USDPMT\" SERIES_NAME=\"Rice, Thailand, Unit prices, US dollars per metric tonne\"/><Group xsi:type=\"ns1:INDICATOR\" INDICATOR=\"LE\" SERIES_NAME=\"Employed persons, Persons for countries / Index for country groups\" KEY_INDICATOR=\"true\" TOPIC=\"E24\" SOC_CONCEPTS=\"E\"/><Group xsi:type=\"ns1:INDICATOR\" INDICATOR=\"GGX\" TOPIC=\"H00\" SECTOR=\"S13\" GFS_STO=\"G2M\" UNIT=\"XDC\" SERIES_NAME=\"Expenditure, General government, Domestic currency\" KEY_INDICATOR=\"true\"/><Group xsi:type=\"ns1:INDICATOR\" INDICATOR=\"PSUNO\" COMMODITY=\"PSUNO\" TOPIC=\"Q02\" PRICES=\"XP\" UNIT=\"USDPMT\" SERIES_NAME=\"Sunflower oil, Export price, US dollars per metric tonne\"/><Group xsi:type=\"ns1:INDICATOR\" INDICATOR=\"PMEATW\" INDEX_TYPE=\"CPIX\" TOPIC=\"Q02\" COMMODITY=\"PMEAT\" UNIT=\"IX\" SERIES_NAME=\"Meat, Commodity price index\"/><Group xsi:type=\"ns1:INDICATOR\" INDICATOR=\"TTTPCH\" SERIES_NAME=\"Terms of trade of goods, percent change\" UNIT=\"PT\" TOPIC=\"L81\"/><Group xsi:type=\"ns1:INDICATOR\" INDICATOR=\"TMG_RPCH\" PRICES=\"VL\" TRADE_FLOW=\"MG\" TOPIC=\"F10_I\" VALUATION=\"CIF\" SERIES_NAME=\"Imports of goods, Volume, Cost insurance freight (CIF), Percent change\" KEY_INDICATOR=\"true\" UNIT=\"PT\"/><Group xsi:type=\"ns1:INDICATOR\" INDICATOR=\"NGDP_FY\" SERIES_NAME=\"Gross domestic product (GDP), Current prices, Fiscal year, Domestic currency\" PRICES=\"V\" KEY_INDICATOR=\"true\" NA_STO=\"B1GQ\" TOPIC=\"E10_GDP\" UNIT=\"XDC\" KEYWORDS=\"Nominal GDP\"/><Group xsi:type=\"ns1:INDICATOR\" INDICATOR=\"PMAIZMT\" SERIES_NAME=\"Corn, Unit prices, US dollars per metric tonne\" COMMODITY=\"PMAIZMT\" UNIT=\"USDPMT\" TOPIC=\"Q02\" PRICES=\"UP\"/><Group xsi:type=\"ns1:INDICATOR\" INDICATOR=\"PLOGORE\" PRICES=\"XP\" TOPIC=\"Q02\" SERIES_NAME=\"Soft logs, Export price, US dollars per cubic meter\" COMMODITY=\"PLOGORE\" UNIT=\"USD_PCM\"/><Group xsi:type=\"ns1:INDICATOR\" INDICATOR=\"GGR\" SERIES_NAME=\"Revenue, General government, Domestic currency\" UNIT=\"XDC\" GFS_STO=\"G1\" SECTOR=\"S13\" TOPIC=\"H00\" KEY_INDICATOR=\"true\"/><Group xsi:type=\"ns1:INDICATOR\" INDICATOR=\"DSP_BX\" TOPIC=\"F34\" SERIES_NAME=\"External debt: total debt service, amortization, Percent of exports of goods and services\" UNIT=\"PT\" INT_ACC_ITEM=\"FGEDDSA\"/><Group xsi:type=\"ns1:INDICATOR\" INDICATOR=\"PFANDBW\" TOPIC=\"Q02\" COMMODITY=\"PFANDB\" UNIT=\"IX\" INDEX_TYPE=\"CPIX\" SERIES_NAME=\"Food and beverage, Commodity price index\"/><Group xsi:type=\"ns1:INDICATOR\" INDICATOR=\"PCOALW\" INDEX_TYPE=\"CPIX\" SERIES_NAME=\"Coal, Commodity price index\" TOPIC=\"Q02\" COMMODITY=\"PCOAL\" UNIT=\"IX\"/><Group xsi:type=\"ns1:INDICATOR\" INDICATOR=\"PCPI\" UNIT=\"IX\" KEY_INDICATOR=\"true\" SERIES_NAME=\"All Items, Consumer price index (CPI), Period average\" INDEX_\n"
     ]
    }
   ],
   "source": [
    "url = \"https://api.imf.org/external/sdmx/2.1/data/WEO/all/all?startPeriod=2000&endPeriod=2025&dimensionAtObservation=TIME_PERIOD&detail=full&includeHistory=false\"\n",
    "response = requests.get(url)\n",
    "response.status_code\n",
    "print(response.text[:10000])\n",
    "# Parse XML into Python dict\n",
    "data_dict = xmltodict.parse(response.content)\n",
    "# Save as JSON\n",
    "with open(\"data_weo_full.json\", \"w\", encoding=\"utf-8\") as f:\n",
    "    json.dump(data_dict, f, indent=4)\n",
    "\n"
   ]
  },
  {
   "cell_type": "code",
   "execution_count": 4,
   "id": "1a4653b4",
   "metadata": {},
   "outputs": [],
   "source": [
    "with open(\"data_weo_full.json\", 'r', encoding='utf-8') as file_json:\n",
    "        # 3. Carga el contenido JSON en una variable (un diccionario o lista de Python)\n",
    "        data = json.load(file_json)\n"
   ]
  },
  {
   "cell_type": "code",
   "execution_count": 5,
   "id": "881e376e",
   "metadata": {},
   "outputs": [
    {
     "data": {
      "text/plain": [
       "dict_keys(['message:StructureSpecificData'])"
      ]
     },
     "execution_count": 5,
     "metadata": {},
     "output_type": "execute_result"
    }
   ],
   "source": [
    "data.keys()"
   ]
  },
  {
   "cell_type": "code",
   "execution_count": 6,
   "id": "bcad89a3",
   "metadata": {},
   "outputs": [
    {
     "data": {
      "text/plain": [
       "dict_keys(['@ss:dataScope', '@xsi:type', '@ss:structureRef', '@action', '@LANGUAGE', '@PUBLISHER', '@UPDATE_DATE', '@PUBLICATION_DATE', '@CONTACT_POINT', '@ACCESS_SHARING_LEVEL', '@SECURITY_CLASSIFICATION', '@DEPARTMENT', '@TOPIC_DATASET', '@SHORT_SOURCE_CITATION', '@SUGGESTED_CITATION', '@KEYWORDS_DATASET', '@FULL_DESCRIPTION', '@LICENSE', 'Group', 'Series'])"
      ]
     },
     "execution_count": 6,
     "metadata": {},
     "output_type": "execute_result"
    }
   ],
   "source": [
    "data['message:StructureSpecificData']['message:DataSet'].keys()"
   ]
  },
  {
   "cell_type": "code",
   "execution_count": 8,
   "id": "01834845",
   "metadata": {},
   "outputs": [
    {
     "data": {
      "text/html": [
       "<div>\n",
       "<style scoped>\n",
       "    .dataframe tbody tr th:only-of-type {\n",
       "        vertical-align: middle;\n",
       "    }\n",
       "\n",
       "    .dataframe tbody tr th {\n",
       "        vertical-align: top;\n",
       "    }\n",
       "\n",
       "    .dataframe thead th {\n",
       "        text-align: right;\n",
       "    }\n",
       "</style>\n",
       "<table border=\"1\" class=\"dataframe\">\n",
       "  <thead>\n",
       "    <tr style=\"text-align: right;\">\n",
       "      <th></th>\n",
       "      <th>message:StructureSpecificData</th>\n",
       "    </tr>\n",
       "  </thead>\n",
       "  <tbody>\n",
       "    <tr>\n",
       "      <th>@xmlns:ss</th>\n",
       "      <td>http://www.sdmx.org/resources/sdmxml/schemas/v...</td>\n",
       "    </tr>\n",
       "    <tr>\n",
       "      <th>@xmlns:footer</th>\n",
       "      <td>http://www.sdmx.org/resources/sdmxml/schemas/v...</td>\n",
       "    </tr>\n",
       "    <tr>\n",
       "      <th>@xmlns:ns1</th>\n",
       "      <td>urn:sdmx:org.sdmx.infomodel.datastructure.Data...</td>\n",
       "    </tr>\n",
       "    <tr>\n",
       "      <th>@xmlns:message</th>\n",
       "      <td>http://www.sdmx.org/resources/sdmxml/schemas/v...</td>\n",
       "    </tr>\n",
       "    <tr>\n",
       "      <th>@xmlns:common</th>\n",
       "      <td>http://www.sdmx.org/resources/sdmxml/schemas/v...</td>\n",
       "    </tr>\n",
       "    <tr>\n",
       "      <th>@xmlns:xsi</th>\n",
       "      <td>http://www.w3.org/2001/XMLSchema-instance</td>\n",
       "    </tr>\n",
       "    <tr>\n",
       "      <th>@xmlns:xml</th>\n",
       "      <td>http://www.w3.org/XML/1998/namespace</td>\n",
       "    </tr>\n",
       "    <tr>\n",
       "      <th>message:Header</th>\n",
       "      <td>{'message:ID': 'DS1756826401421', 'message:Tes...</td>\n",
       "    </tr>\n",
       "    <tr>\n",
       "      <th>message:DataSet</th>\n",
       "      <td>{'@ss:dataScope': 'DataStructure', '@xsi:type'...</td>\n",
       "    </tr>\n",
       "  </tbody>\n",
       "</table>\n",
       "</div>"
      ],
      "text/plain": [
       "                                     message:StructureSpecificData\n",
       "@xmlns:ss        http://www.sdmx.org/resources/sdmxml/schemas/v...\n",
       "@xmlns:footer    http://www.sdmx.org/resources/sdmxml/schemas/v...\n",
       "@xmlns:ns1       urn:sdmx:org.sdmx.infomodel.datastructure.Data...\n",
       "@xmlns:message   http://www.sdmx.org/resources/sdmxml/schemas/v...\n",
       "@xmlns:common    http://www.sdmx.org/resources/sdmxml/schemas/v...\n",
       "@xmlns:xsi               http://www.w3.org/2001/XMLSchema-instance\n",
       "@xmlns:xml                    http://www.w3.org/XML/1998/namespace\n",
       "message:Header   {'message:ID': 'DS1756826401421', 'message:Tes...\n",
       "message:DataSet  {'@ss:dataScope': 'DataStructure', '@xsi:type'..."
      ]
     },
     "execution_count": 8,
     "metadata": {},
     "output_type": "execute_result"
    }
   ],
   "source": [
    "data = pd.read_json(\"data_weo_full.json\")\n",
    "data"
   ]
  }
 ],
 "metadata": {
  "kernelspec": {
   "display_name": "venv",
   "language": "python",
   "name": "python3"
  },
  "language_info": {
   "codemirror_mode": {
    "name": "ipython",
    "version": 3
   },
   "file_extension": ".py",
   "mimetype": "text/x-python",
   "name": "python",
   "nbconvert_exporter": "python",
   "pygments_lexer": "ipython3",
   "version": "3.12.4"
  }
 },
 "nbformat": 4,
 "nbformat_minor": 5
}
